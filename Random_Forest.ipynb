{
 "cells": [
  {
   "cell_type": "code",
   "execution_count": 1,
   "id": "8d0982a4-974e-4212-b28b-6f778a27cecb",
   "metadata": {},
   "outputs": [],
   "source": [
    "# Importing the required libraries\n",
    "import pandas as pd\n",
    "import numpy as np\n",
    "import matplotlib.pyplot as plt\n",
    "import seaborn as sns\n",
    "%matplotlib inline"
   ]
  },
  {
   "cell_type": "code",
   "execution_count": 2,
   "id": "c25cab06-88bc-4b0b-b85c-f799bbcc01d9",
   "metadata": {},
   "outputs": [],
   "source": [
    "features = pd.read_csv(\"~/depot/tdm-musafe/data/features.csv\") # Import features set"
   ]
  },
  {
   "cell_type": "code",
   "execution_count": 3,
   "id": "0d4c9b5a-ae38-48f9-95a1-9d124fe9c703",
   "metadata": {},
   "outputs": [],
   "source": [
    "df_raw = pd.read_csv('~/depot/tdm-musafe/data/human-activity-recognition/raw-data/har_raw.gz') # import raw data to get incident classification"
   ]
  },
  {
   "cell_type": "code",
   "execution_count": 4,
   "id": "94a34ab0-468d-438c-bc5e-55aa6344c339",
   "metadata": {},
   "outputs": [],
   "source": [
    "df = df_raw.drop_duplicates(subset=\"incident_id\").reset_index().drop(\"index\", axis=1)"
   ]
  },
  {
   "cell_type": "code",
   "execution_count": 5,
   "id": "dbbadf71-4dd4-4bea-8d80-de13c0089194",
   "metadata": {},
   "outputs": [
    {
     "data": {
      "text/html": [
       "<div>\n",
       "<style scoped>\n",
       "    .dataframe tbody tr th:only-of-type {\n",
       "        vertical-align: middle;\n",
       "    }\n",
       "\n",
       "    .dataframe tbody tr th {\n",
       "        vertical-align: top;\n",
       "    }\n",
       "\n",
       "    .dataframe thead th {\n",
       "        text-align: right;\n",
       "    }\n",
       "</style>\n",
       "<table border=\"1\" class=\"dataframe\">\n",
       "  <thead>\n",
       "    <tr style=\"text-align: right;\">\n",
       "      <th></th>\n",
       "      <th>hash_id</th>\n",
       "      <th>incident_id</th>\n",
       "      <th>motion</th>\n",
       "      <th>sample_number</th>\n",
       "      <th>milliseconds</th>\n",
       "      <th>seconds</th>\n",
       "      <th>x</th>\n",
       "      <th>y</th>\n",
       "      <th>z</th>\n",
       "      <th>occurrence_ts</th>\n",
       "      <th>confirmation_ts</th>\n",
       "    </tr>\n",
       "  </thead>\n",
       "  <tbody>\n",
       "    <tr>\n",
       "      <th>0</th>\n",
       "      <td>3888c2da3334b3963aabe2ee5b5c832e</td>\n",
       "      <td>7543315</td>\n",
       "      <td>other</td>\n",
       "      <td>1</td>\n",
       "      <td>40</td>\n",
       "      <td>1</td>\n",
       "      <td>-0.21</td>\n",
       "      <td>0.68</td>\n",
       "      <td>0.41</td>\n",
       "      <td>2021-09-27T11:07:52Z</td>\n",
       "      <td>2021-10-04T18:24:51Z</td>\n",
       "    </tr>\n",
       "    <tr>\n",
       "      <th>1</th>\n",
       "      <td>3888c2da3334b3963aabe2ee5b5c832e</td>\n",
       "      <td>7901327</td>\n",
       "      <td>other</td>\n",
       "      <td>1</td>\n",
       "      <td>40</td>\n",
       "      <td>1</td>\n",
       "      <td>-0.34</td>\n",
       "      <td>0.88</td>\n",
       "      <td>0.41</td>\n",
       "      <td>2021-10-13T16:40:36Z</td>\n",
       "      <td>2021-10-14T12:31:04Z</td>\n",
       "    </tr>\n",
       "    <tr>\n",
       "      <th>2</th>\n",
       "      <td>8536612cc79d16410dcda09314f79410</td>\n",
       "      <td>7864944</td>\n",
       "      <td>other</td>\n",
       "      <td>1</td>\n",
       "      <td>40</td>\n",
       "      <td>1</td>\n",
       "      <td>-0.02</td>\n",
       "      <td>0.50</td>\n",
       "      <td>-0.03</td>\n",
       "      <td>2021-10-12T16:39:28Z</td>\n",
       "      <td>2021-10-12T21:11:58Z</td>\n",
       "    </tr>\n",
       "    <tr>\n",
       "      <th>3</th>\n",
       "      <td>8536612cc79d16410dcda09314f79410</td>\n",
       "      <td>7777831</td>\n",
       "      <td>other</td>\n",
       "      <td>1</td>\n",
       "      <td>40</td>\n",
       "      <td>1</td>\n",
       "      <td>0.17</td>\n",
       "      <td>0.87</td>\n",
       "      <td>0.20</td>\n",
       "      <td>2021-10-07T22:36:00Z</td>\n",
       "      <td>2021-10-12T16:04:13Z</td>\n",
       "    </tr>\n",
       "    <tr>\n",
       "      <th>4</th>\n",
       "      <td>5fe5cdf264c6f7491b235dcdd3c2a1ff</td>\n",
       "      <td>8232092</td>\n",
       "      <td>other</td>\n",
       "      <td>1</td>\n",
       "      <td>40</td>\n",
       "      <td>1</td>\n",
       "      <td>-0.26</td>\n",
       "      <td>0.88</td>\n",
       "      <td>0.21</td>\n",
       "      <td>2021-10-26T20:03:59Z</td>\n",
       "      <td>2021-10-29T20:49:07Z</td>\n",
       "    </tr>\n",
       "  </tbody>\n",
       "</table>\n",
       "</div>"
      ],
      "text/plain": [
       "                            hash_id  incident_id motion  sample_number  \\\n",
       "0  3888c2da3334b3963aabe2ee5b5c832e      7543315  other              1   \n",
       "1  3888c2da3334b3963aabe2ee5b5c832e      7901327  other              1   \n",
       "2  8536612cc79d16410dcda09314f79410      7864944  other              1   \n",
       "3  8536612cc79d16410dcda09314f79410      7777831  other              1   \n",
       "4  5fe5cdf264c6f7491b235dcdd3c2a1ff      8232092  other              1   \n",
       "\n",
       "   milliseconds  seconds     x     y     z         occurrence_ts  \\\n",
       "0            40        1 -0.21  0.68  0.41  2021-09-27T11:07:52Z   \n",
       "1            40        1 -0.34  0.88  0.41  2021-10-13T16:40:36Z   \n",
       "2            40        1 -0.02  0.50 -0.03  2021-10-12T16:39:28Z   \n",
       "3            40        1  0.17  0.87  0.20  2021-10-07T22:36:00Z   \n",
       "4            40        1 -0.26  0.88  0.21  2021-10-26T20:03:59Z   \n",
       "\n",
       "        confirmation_ts  \n",
       "0  2021-10-04T18:24:51Z  \n",
       "1  2021-10-14T12:31:04Z  \n",
       "2  2021-10-12T21:11:58Z  \n",
       "3  2021-10-12T16:04:13Z  \n",
       "4  2021-10-29T20:49:07Z  "
      ]
     },
     "execution_count": 5,
     "metadata": {},
     "output_type": "execute_result"
    }
   ],
   "source": [
    "df.head()"
   ]
  },
  {
   "cell_type": "code",
   "execution_count": 6,
   "id": "b61c7248-8ac1-4b7f-9fbe-dcec822150ce",
   "metadata": {},
   "outputs": [],
   "source": [
    "new_df = pd.merge(features, df[[\"incident_id\", \"motion\"]], on=\"incident_id\", how=\"left\")"
   ]
  },
  {
   "cell_type": "code",
   "execution_count": 7,
   "id": "0b4fb09e-1ac1-4588-83eb-5c27f04f2143",
   "metadata": {},
   "outputs": [
    {
     "data": {
      "text/html": [
       "<div>\n",
       "<style scoped>\n",
       "    .dataframe tbody tr th:only-of-type {\n",
       "        vertical-align: middle;\n",
       "    }\n",
       "\n",
       "    .dataframe tbody tr th {\n",
       "        vertical-align: top;\n",
       "    }\n",
       "\n",
       "    .dataframe thead th {\n",
       "        text-align: right;\n",
       "    }\n",
       "</style>\n",
       "<table border=\"1\" class=\"dataframe\">\n",
       "  <thead>\n",
       "    <tr style=\"text-align: right;\">\n",
       "      <th></th>\n",
       "      <th>incident_id</th>\n",
       "      <th>maximum</th>\n",
       "      <th>minimum</th>\n",
       "      <th>range</th>\n",
       "      <th>mean</th>\n",
       "      <th>standard deviation</th>\n",
       "      <th>variance</th>\n",
       "      <th>skew</th>\n",
       "      <th>kurtosis</th>\n",
       "      <th>total variation</th>\n",
       "      <th>...</th>\n",
       "      <th>window 2520:7520 total variation</th>\n",
       "      <th>window 2520:7520 mean x</th>\n",
       "      <th>window 2520:7520 mean y</th>\n",
       "      <th>window 2520:7520 mean z</th>\n",
       "      <th>window 2520:7520 angular path length</th>\n",
       "      <th>window 2520:7520 biggest angle difference</th>\n",
       "      <th>window 2520:7520 low frequency power</th>\n",
       "      <th>window 2520:7520 medium frequency power</th>\n",
       "      <th>window 2520:7520 high frequency power</th>\n",
       "      <th>motion</th>\n",
       "    </tr>\n",
       "  </thead>\n",
       "  <tbody>\n",
       "    <tr>\n",
       "      <th>0</th>\n",
       "      <td>729353</td>\n",
       "      <td>3.299182</td>\n",
       "      <td>0.200998</td>\n",
       "      <td>3.098184</td>\n",
       "      <td>1.118297</td>\n",
       "      <td>0.433189</td>\n",
       "      <td>0.187653</td>\n",
       "      <td>1.235819</td>\n",
       "      <td>3.329116</td>\n",
       "      <td>63.578636</td>\n",
       "      <td>...</td>\n",
       "      <td>13.342819</td>\n",
       "      <td>0.31752</td>\n",
       "      <td>-0.14160</td>\n",
       "      <td>0.41072</td>\n",
       "      <td>1.019757</td>\n",
       "      <td>0.986986</td>\n",
       "      <td>0.023158</td>\n",
       "      <td>0.062948</td>\n",
       "      <td>0.029965</td>\n",
       "      <td>other</td>\n",
       "    </tr>\n",
       "    <tr>\n",
       "      <th>1</th>\n",
       "      <td>729389</td>\n",
       "      <td>3.102193</td>\n",
       "      <td>0.232809</td>\n",
       "      <td>2.869384</td>\n",
       "      <td>1.155901</td>\n",
       "      <td>0.357949</td>\n",
       "      <td>0.128128</td>\n",
       "      <td>2.076920</td>\n",
       "      <td>8.020846</td>\n",
       "      <td>30.870376</td>\n",
       "      <td>...</td>\n",
       "      <td>7.904559</td>\n",
       "      <td>0.09504</td>\n",
       "      <td>-0.62024</td>\n",
       "      <td>0.86512</td>\n",
       "      <td>0.044255</td>\n",
       "      <td>0.033855</td>\n",
       "      <td>0.005944</td>\n",
       "      <td>0.032819</td>\n",
       "      <td>0.003476</td>\n",
       "      <td>other</td>\n",
       "    </tr>\n",
       "    <tr>\n",
       "      <th>2</th>\n",
       "      <td>729405</td>\n",
       "      <td>5.283370</td>\n",
       "      <td>0.037417</td>\n",
       "      <td>5.245954</td>\n",
       "      <td>1.030549</td>\n",
       "      <td>0.460845</td>\n",
       "      <td>0.212378</td>\n",
       "      <td>5.138048</td>\n",
       "      <td>41.192540</td>\n",
       "      <td>40.827839</td>\n",
       "      <td>...</td>\n",
       "      <td>3.626618</td>\n",
       "      <td>-0.15320</td>\n",
       "      <td>0.97848</td>\n",
       "      <td>0.13256</td>\n",
       "      <td>0.307259</td>\n",
       "      <td>0.293787</td>\n",
       "      <td>0.000019</td>\n",
       "      <td>0.000027</td>\n",
       "      <td>0.000096</td>\n",
       "      <td>other</td>\n",
       "    </tr>\n",
       "    <tr>\n",
       "      <th>3</th>\n",
       "      <td>730067</td>\n",
       "      <td>3.245381</td>\n",
       "      <td>0.305287</td>\n",
       "      <td>2.940095</td>\n",
       "      <td>1.006611</td>\n",
       "      <td>0.198571</td>\n",
       "      <td>0.039430</td>\n",
       "      <td>4.008560</td>\n",
       "      <td>43.424537</td>\n",
       "      <td>34.557172</td>\n",
       "      <td>...</td>\n",
       "      <td>7.940684</td>\n",
       "      <td>-0.08320</td>\n",
       "      <td>0.87624</td>\n",
       "      <td>0.26920</td>\n",
       "      <td>0.411793</td>\n",
       "      <td>0.411309</td>\n",
       "      <td>0.002806</td>\n",
       "      <td>0.021046</td>\n",
       "      <td>0.008334</td>\n",
       "      <td>other</td>\n",
       "    </tr>\n",
       "    <tr>\n",
       "      <th>4</th>\n",
       "      <td>730071</td>\n",
       "      <td>3.598389</td>\n",
       "      <td>0.179722</td>\n",
       "      <td>3.418667</td>\n",
       "      <td>1.004410</td>\n",
       "      <td>0.270733</td>\n",
       "      <td>0.073296</td>\n",
       "      <td>4.564226</td>\n",
       "      <td>36.720746</td>\n",
       "      <td>33.030022</td>\n",
       "      <td>...</td>\n",
       "      <td>7.079925</td>\n",
       "      <td>0.11440</td>\n",
       "      <td>0.77584</td>\n",
       "      <td>0.50472</td>\n",
       "      <td>0.095371</td>\n",
       "      <td>0.058382</td>\n",
       "      <td>0.000205</td>\n",
       "      <td>0.002146</td>\n",
       "      <td>0.005786</td>\n",
       "      <td>other</td>\n",
       "    </tr>\n",
       "  </tbody>\n",
       "</table>\n",
       "<p>5 rows × 110 columns</p>\n",
       "</div>"
      ],
      "text/plain": [
       "   incident_id   maximum   minimum     range      mean  standard deviation  \\\n",
       "0       729353  3.299182  0.200998  3.098184  1.118297            0.433189   \n",
       "1       729389  3.102193  0.232809  2.869384  1.155901            0.357949   \n",
       "2       729405  5.283370  0.037417  5.245954  1.030549            0.460845   \n",
       "3       730067  3.245381  0.305287  2.940095  1.006611            0.198571   \n",
       "4       730071  3.598389  0.179722  3.418667  1.004410            0.270733   \n",
       "\n",
       "   variance      skew   kurtosis  total variation  ...  \\\n",
       "0  0.187653  1.235819   3.329116        63.578636  ...   \n",
       "1  0.128128  2.076920   8.020846        30.870376  ...   \n",
       "2  0.212378  5.138048  41.192540        40.827839  ...   \n",
       "3  0.039430  4.008560  43.424537        34.557172  ...   \n",
       "4  0.073296  4.564226  36.720746        33.030022  ...   \n",
       "\n",
       "   window 2520:7520 total variation  window 2520:7520 mean x  \\\n",
       "0                         13.342819                  0.31752   \n",
       "1                          7.904559                  0.09504   \n",
       "2                          3.626618                 -0.15320   \n",
       "3                          7.940684                 -0.08320   \n",
       "4                          7.079925                  0.11440   \n",
       "\n",
       "   window 2520:7520 mean y  window 2520:7520 mean z  \\\n",
       "0                 -0.14160                  0.41072   \n",
       "1                 -0.62024                  0.86512   \n",
       "2                  0.97848                  0.13256   \n",
       "3                  0.87624                  0.26920   \n",
       "4                  0.77584                  0.50472   \n",
       "\n",
       "   window 2520:7520 angular path length  \\\n",
       "0                              1.019757   \n",
       "1                              0.044255   \n",
       "2                              0.307259   \n",
       "3                              0.411793   \n",
       "4                              0.095371   \n",
       "\n",
       "   window 2520:7520 biggest angle difference  \\\n",
       "0                                   0.986986   \n",
       "1                                   0.033855   \n",
       "2                                   0.293787   \n",
       "3                                   0.411309   \n",
       "4                                   0.058382   \n",
       "\n",
       "   window 2520:7520 low frequency power  \\\n",
       "0                              0.023158   \n",
       "1                              0.005944   \n",
       "2                              0.000019   \n",
       "3                              0.002806   \n",
       "4                              0.000205   \n",
       "\n",
       "   window 2520:7520 medium frequency power  \\\n",
       "0                                 0.062948   \n",
       "1                                 0.032819   \n",
       "2                                 0.000027   \n",
       "3                                 0.021046   \n",
       "4                                 0.002146   \n",
       "\n",
       "   window 2520:7520 high frequency power  motion  \n",
       "0                               0.029965   other  \n",
       "1                               0.003476   other  \n",
       "2                               0.000096   other  \n",
       "3                               0.008334   other  \n",
       "4                               0.005786   other  \n",
       "\n",
       "[5 rows x 110 columns]"
      ]
     },
     "execution_count": 7,
     "metadata": {},
     "output_type": "execute_result"
    }
   ],
   "source": [
    "new_df.head()"
   ]
  },
  {
   "cell_type": "code",
   "execution_count": 8,
   "id": "d2083d10-84b0-4c06-9980-12d9c6ece30d",
   "metadata": {},
   "outputs": [],
   "source": [
    "# Putting feature variable to X\n",
    "X = new_df.drop(['motion','incident_id'],axis=1)\n",
    "# Putting response variable to y\n",
    "y = new_df['motion']"
   ]
  },
  {
   "cell_type": "code",
   "execution_count": 9,
   "id": "848c8ccd-8aec-4827-bce3-83f62ed8818e",
   "metadata": {},
   "outputs": [],
   "source": [
    "# now lets split the data into train and test\n",
    "from sklearn.model_selection import train_test_split"
   ]
  },
  {
   "cell_type": "code",
   "execution_count": 10,
   "id": "59ff5f0b-eb9d-4fe0-8aa9-fbcffac53154",
   "metadata": {},
   "outputs": [],
   "source": [
    "# Splitting the data into train and test\n",
    "X_train, X_test, y_train, y_test = train_test_split(X, y, train_size=0.20, random_state=42)"
   ]
  },
  {
   "cell_type": "code",
   "execution_count": 11,
   "id": "535eb2ea-cb76-4b37-aeac-f49fd9b2e153",
   "metadata": {},
   "outputs": [
    {
     "name": "stdout",
     "output_type": "stream",
     "text": [
      "X_train shape: (554, 108)\n",
      "X_test shape: (2216, 108)\n",
      "y_train shape: (554,)\n",
      "y_test shape: (2216,)\n"
     ]
    }
   ],
   "source": [
    "print(\"X_train shape:\",X_train.shape)\n",
    "print(\"X_test shape:\",X_test.shape)\n",
    "print(\"y_train shape:\",y_train.shape)\n",
    "print(\"y_test shape:\",y_test.shape)"
   ]
  },
  {
   "cell_type": "code",
   "execution_count": 12,
   "id": "58cd6d2c-edfa-439e-9e07-582421a2e94e",
   "metadata": {},
   "outputs": [],
   "source": [
    "from sklearn.ensemble import RandomForestClassifier"
   ]
  },
  {
   "cell_type": "code",
   "execution_count": 13,
   "id": "bc01514b-ed97-4618-9319-6003d1c8866b",
   "metadata": {},
   "outputs": [],
   "source": [
    "classifier_rf = RandomForestClassifier(random_state=42, n_jobs=-1, max_depth=5,\n",
    "                                       n_estimators=100, oob_score=True)"
   ]
  },
  {
   "cell_type": "code",
   "execution_count": 14,
   "id": "08041ce6-0688-4eec-9fa0-94fa52fff303",
   "metadata": {},
   "outputs": [
    {
     "name": "stdout",
     "output_type": "stream",
     "text": [
      "CPU times: user 384 ms, sys: 6.26 ms, total: 390 ms\n",
      "Wall time: 618 ms\n"
     ]
    },
    {
     "data": {
      "text/plain": [
       "RandomForestClassifier(max_depth=5, n_jobs=-1, oob_score=True, random_state=42)"
      ]
     },
     "execution_count": 14,
     "metadata": {},
     "output_type": "execute_result"
    }
   ],
   "source": [
    "%%time\n",
    "classifier_rf.fit(X_train, y_train)"
   ]
  },
  {
   "cell_type": "code",
   "execution_count": 15,
   "id": "06618f83-3a63-43e6-84b6-f629b2e9dd05",
   "metadata": {},
   "outputs": [
    {
     "data": {
      "text/plain": [
       "0.9133574007220217"
      ]
     },
     "execution_count": 15,
     "metadata": {},
     "output_type": "execute_result"
    }
   ],
   "source": [
    "# checking the oob score\n",
    "classifier_rf.oob_score_"
   ]
  },
  {
   "cell_type": "code",
   "execution_count": 16,
   "id": "b0026bf5-e9c0-4533-a549-973161bea9b6",
   "metadata": {},
   "outputs": [],
   "source": [
    "# Let’s do hyperparameter tuning for Random Forest using GridSearchCV and fit the data.\n",
    "rf = RandomForestClassifier(random_state=42, n_jobs=-1)"
   ]
  },
  {
   "cell_type": "code",
   "execution_count": 17,
   "id": "1e9076c0-4f13-4625-be91-76f149d0614f",
   "metadata": {},
   "outputs": [],
   "source": [
    "params = {\n",
    "    'max_depth': [2,3,5,10,20],\n",
    "    'min_samples_leaf': [5,10,20,50,100,200],\n",
    "    'n_estimators': [10,25,30,50,100,200]\n",
    "}"
   ]
  },
  {
   "cell_type": "code",
   "execution_count": 18,
   "id": "bf58e268-6043-4846-8b51-5b88782cccd8",
   "metadata": {},
   "outputs": [],
   "source": [
    "from sklearn.model_selection import GridSearchCV"
   ]
  },
  {
   "cell_type": "code",
   "execution_count": 19,
   "id": "096410a4-a041-4b5b-bde6-09bc75f7be94",
   "metadata": {},
   "outputs": [],
   "source": [
    "# Instantiate the grid search model\n",
    "grid_search = GridSearchCV(estimator=rf,\n",
    "                           param_grid=params,\n",
    "                           cv = 4,\n",
    "                           n_jobs=-1, verbose=1, scoring=\"accuracy\")"
   ]
  },
  {
   "cell_type": "code",
   "execution_count": 20,
   "id": "337ace08-4fb1-4717-b8fd-9c06fcba74ed",
   "metadata": {},
   "outputs": [
    {
     "name": "stdout",
     "output_type": "stream",
     "text": [
      "Fitting 4 folds for each of 180 candidates, totalling 720 fits\n"
     ]
    },
    {
     "name": "stderr",
     "output_type": "stream",
     "text": [
      "/scratch/brown/kamstut/tdm/apps/jupyter/kernels/f2021-s2022/.venv/lib/python3.9/site-packages/sklearn/model_selection/_split.py:666: UserWarning: The least populated class in y has only 2 members, which is less than n_splits=4.\n",
      "  warnings.warn((\"The least populated class in y has only %d\"\n"
     ]
    },
    {
     "name": "stdout",
     "output_type": "stream",
     "text": [
      "CPU times: user 1min 39s, sys: 285 ms, total: 1min 40s\n",
      "Wall time: 1min 40s\n"
     ]
    },
    {
     "data": {
      "text/plain": [
       "GridSearchCV(cv=4, estimator=RandomForestClassifier(n_jobs=-1, random_state=42),\n",
       "             n_jobs=-1,\n",
       "             param_grid={'max_depth': [2, 3, 5, 10, 20],\n",
       "                         'min_samples_leaf': [5, 10, 20, 50, 100, 200],\n",
       "                         'n_estimators': [10, 25, 30, 50, 100, 200]},\n",
       "             scoring='accuracy', verbose=1)"
      ]
     },
     "execution_count": 20,
     "metadata": {},
     "output_type": "execute_result"
    }
   ],
   "source": [
    "%%time\n",
    "grid_search.fit(X_train, y_train)"
   ]
  },
  {
   "cell_type": "code",
   "execution_count": 22,
   "id": "021d75b2-f3a0-4a28-b884-1623c2be728b",
   "metadata": {},
   "outputs": [
    {
     "data": {
      "text/plain": [
       "RandomForestClassifier(max_depth=2, min_samples_leaf=5, n_estimators=10,\n",
       "                       n_jobs=-1, random_state=42)"
      ]
     },
     "execution_count": 22,
     "metadata": {},
     "output_type": "execute_result"
    }
   ],
   "source": [
    "rf_best = grid_search.best_estimator_\n",
    "rf_best"
   ]
  },
  {
   "cell_type": "code",
   "execution_count": 23,
   "id": "b2874cc5-8fd7-4f36-bd3c-0ed369e9c51c",
   "metadata": {},
   "outputs": [],
   "source": [
    "feature_names = [f\"feature {i}\" for i in range(X.shape[1])]"
   ]
  },
  {
   "cell_type": "code",
   "execution_count": 25,
   "id": "be914e1b-7d5c-4a57-aedc-624c35f19f37",
   "metadata": {},
   "outputs": [
    {
     "data": {
      "text/plain": [
       "RandomForestClassifier(random_state=0)"
      ]
     },
     "execution_count": 25,
     "metadata": {},
     "output_type": "execute_result"
    }
   ],
   "source": [
    "from sklearn.ensemble import RandomForestClassifier\n",
    "\n",
    "feature_names = X.columns\n",
    "forest = RandomForestClassifier(random_state=0)\n",
    "forest.fit(X_train, y_train)"
   ]
  },
  {
   "cell_type": "code",
   "execution_count": 55,
   "id": "98c4ce3d-1685-451d-bbe2-a8de83e7ce65",
   "metadata": {},
   "outputs": [
    {
     "name": "stdout",
     "output_type": "stream",
     "text": [
      "Elapsed time to compute the importances: 0.033 seconds\n"
     ]
    }
   ],
   "source": [
    "import time\n",
    "import numpy as np\n",
    "\n",
    "start_time = time.time()\n",
    "importances = forest.feature_importances_\n",
    "std = np.std([tree.feature_importances_ for tree in forest.estimators_], axis=0)\n",
    "elapsed_time = time.time() - start_time\n",
    "\n",
    "print(f\"Elapsed time to compute the importances: {elapsed_time:.3f} seconds\")"
   ]
  },
  {
   "cell_type": "code",
   "execution_count": 56,
   "id": "e9ad617e-31fe-433a-8b56-d8ab62c715db",
   "metadata": {},
   "outputs": [],
   "source": [
    "forest_importances = pd.Series(importances, index=feature_names)[1:]"
   ]
  },
  {
   "cell_type": "code",
   "execution_count": 57,
   "id": "115a9365-4ca4-4abb-8fc6-ea04c880b9c5",
   "metadata": {},
   "outputs": [
    {
     "name": "stdout",
     "output_type": "stream",
     "text": [
      "0.022962728941013224 maximum\n",
      "0.02225358012206632 minimum\n",
      "0.017887169240967907 range\n",
      "0.017758019575993378 mean\n",
      "0.01736248226750888 standard deviation\n",
      "0.01726307485331809 variance\n",
      "0.01718562646767553 skew\n",
      "0.01679282762725085 kurtosis\n",
      "0.01673115566986559 total variation\n",
      "0.015775723571542465 mean x\n",
      "0.014439295990037857 mean y\n",
      "0.014364425847226182 mean z\n",
      "0.014092971520712462 peak x\n",
      "0.013974907842671054 peak y\n",
      "0.013686745271647854 peak z\n",
      "0.013636688946380525 stillness\n",
      "0.013606890396696582 middle of stillness\n",
      "0.013548081418755516 angular path length\n",
      "0.012859191906291966 biggest angle difference\n",
      "0.012144312448754767 angle between incident and vertical\n",
      "0.012118416373308218 low frequency power\n",
      "0.012060870323313034 medium frequency power\n",
      "0.011976338631759304 high frequency power\n",
      "0.011602357915763436 window -7480:-2480 maximum\n",
      "0.011051096368407691 window -7480:-2480 minimum\n",
      "0.010862853940164636 window -7480:-2480 range\n",
      "0.010839436474581944 window -7480:-2480 mean\n",
      "0.010740651096652969 window -7480:-2480 standard deviation\n",
      "0.010704481644547263 window -7480:-2480 variance\n",
      "0.01032330663872633 window -7480:-2480 skew\n",
      "0.010234654453149465 window -7480:-2480 kurtosis\n",
      "0.0101584112731909 window -7480:-2480 total variation\n",
      "0.01014834358022994 window -7480:-2480 mean x\n",
      "0.010125078192305799 window -7480:-2480 mean y\n",
      "0.010113043890203448 window -7480:-2480 mean z\n",
      "0.009946097708157077 window -7480:-2480 angular path length\n",
      "0.009879117382565052 window -7480:-2480 biggest angle difference\n",
      "0.009836665095602583 window -7480:-2480 low frequency power\n",
      "0.009615535278653506 window -7480:-2480 medium frequency power\n",
      "0.009606470559497994 window -7480:-2480 high frequency power\n",
      "0.00944188136174864 window -4980:20 maximum\n",
      "0.009410339080147762 window -4980:20 minimum\n",
      "0.00935993312752355 window -4980:20 range\n",
      "0.009351388968335412 window -4980:20 mean\n",
      "0.009095618300924186 window -4980:20 standard deviation\n",
      "0.00904948094017817 window -4980:20 variance\n",
      "0.008957468193484563 window -4980:20 skew\n",
      "0.008766163158906527 window -4980:20 kurtosis\n",
      "0.008499790840361256 window -4980:20 total variation\n",
      "0.008410283612207935 window -4980:20 mean x\n",
      "0.008404444822759535 window -4980:20 mean y\n",
      "0.008356734891717824 window -4980:20 mean z\n",
      "0.008285069856003436 window -4980:20 angular path length\n",
      "0.008273289948435429 window -4980:20 biggest angle difference\n",
      "0.008266610246667163 window -4980:20 low frequency power\n",
      "0.008197750850504544 window -4980:20 medium frequency power\n",
      "0.008017831817229907 window -4980:20 high frequency power\n",
      "0.008001697363741326 window -2480:2520 maximum\n",
      "0.0078935648798412 window -2480:2520 minimum\n",
      "0.007832034721106199 window -2480:2520 range\n",
      "0.007803283052392242 window -2480:2520 mean\n",
      "0.0077128134566123155 window -2480:2520 standard deviation\n",
      "0.0076933056812130566 window -2480:2520 variance\n",
      "0.007681372424546656 window -2480:2520 skew\n",
      "0.007571604709419171 window -2480:2520 kurtosis\n",
      "0.00756877997417337 window -2480:2520 total variation\n",
      "0.0073771800901372385 window -2480:2520 mean x\n",
      "0.007345406722579248 window -2480:2520 mean y\n",
      "0.007235709913558765 window -2480:2520 mean z\n",
      "0.00720353650464423 window -2480:2520 angular path length\n",
      "0.007147433109831258 window -2480:2520 biggest angle difference\n",
      "0.007080809732777461 window -2480:2520 low frequency power\n",
      "0.006967263510200118 window -2480:2520 medium frequency power\n",
      "0.006953962187558454 window -2480:2520 high frequency power\n",
      "0.006944165164793055 window 20:5020 maximum\n",
      "0.006854081080384174 window 20:5020 minimum\n",
      "0.00684489019687266 window 20:5020 range\n",
      "0.006759494188463617 window 20:5020 mean\n",
      "0.006695721103674472 window 20:5020 standard deviation\n",
      "0.00666934434245628 window 20:5020 variance\n",
      "0.0064348744177108496 window 20:5020 skew\n",
      "0.006424859945612628 window 20:5020 kurtosis\n",
      "0.00631064038670316 window 20:5020 total variation\n",
      "0.006203186306735233 window 20:5020 mean x\n",
      "0.006180709228517638 window 20:5020 mean y\n",
      "0.0061783007260136965 window 20:5020 mean z\n",
      "0.00608561350431119 window 20:5020 angular path length\n",
      "0.005968439923343535 window 20:5020 biggest angle difference\n",
      "0.005839942657635097 window 20:5020 low frequency power\n",
      "0.005803547125298962 window 20:5020 medium frequency power\n",
      "0.005767521228340647 window 20:5020 high frequency power\n",
      "0.005731251271883265 window 2520:7520 maximum\n",
      "0.005566505440240495 window 2520:7520 minimum\n",
      "0.005414043740200096 window 2520:7520 range\n",
      "0.00541277752685388 window 2520:7520 mean\n",
      "0.00530375483338667 window 2520:7520 standard deviation\n",
      "0.005262312860211441 window 2520:7520 variance\n",
      "0.005189760216463963 window 2520:7520 skew\n",
      "0.005092094500169536 window 2520:7520 kurtosis\n",
      "0.00503782699265386 window 2520:7520 total variation\n",
      "0.004975046925736692 window 2520:7520 mean x\n",
      "0.004684656144715474 window 2520:7520 mean y\n",
      "0.004415271710598013 window 2520:7520 mean z\n",
      "0.004365690068636197 window 2520:7520 angular path length\n",
      "0.004221243693233995 window 2520:7520 biggest angle difference\n",
      "0.004186500082167705 window 2520:7520 low frequency power\n",
      "0.0027481523379120185 window 2520:7520 medium frequency power\n"
     ]
    }
   ],
   "source": [
    "forest_importances = forest_importances.sort_values(ascending=False)\n",
    "for i in range(len(forest_importances)):\n",
    "    print(forest_importances[i], feature_names[i])"
   ]
  },
  {
   "cell_type": "code",
   "execution_count": 58,
   "id": "bb2f4fb4-9ae6-4619-bbf3-209261c0fac5",
   "metadata": {},
   "outputs": [],
   "source": [
    "top_10 = forest_importances.head(10)"
   ]
  },
  {
   "cell_type": "code",
   "execution_count": 59,
   "id": "abecea08-70ff-4e2b-bafd-b9b7b6ea6da6",
   "metadata": {},
   "outputs": [],
   "source": [
    "std = std[::-1][0:10]"
   ]
  },
  {
   "cell_type": "code",
   "execution_count": 60,
   "id": "bae05c2b-f62d-40a8-bbd2-ce924841043f",
   "metadata": {},
   "outputs": [
    {
     "data": {
      "text/plain": [
       "10"
      ]
     },
     "execution_count": 60,
     "metadata": {},
     "output_type": "execute_result"
    }
   ],
   "source": [
    "len(std)"
   ]
  },
  {
   "cell_type": "code",
   "execution_count": 61,
   "id": "235cb142-073b-428a-af99-77760f76fe72",
   "metadata": {},
   "outputs": [
    {
     "data": {
      "image/png": "[encoded data removed]",
      "text/plain": [
       "<Figure size 432x288 with 1 Axes>"
      ]
     },
     "metadata": {
      "needs_background": "light"
     },
     "output_type": "display_data"
    }
   ],
   "source": [
    "fig, ax = plt.subplots()\n",
    "top_10.plot.bar(yerr=std, ax=ax)\n",
    "ax.set_title(\"Feature importances using MDI\")\n",
    "ax.set_ylabel(\"Mean decrease in impurity\")\n",
    "fig.tight_layout() "
   ]
  },
  {
   "cell_type": "code",
   "execution_count": 71,
   "id": "8773b242-1e95-4e3f-b9a0-9c5532d219eb",
   "metadata": {},
   "outputs": [
    {
     "data": {
      "text/plain": [
       "angle between incident and vertical       0.022963\n",
       "mean y                                    0.022254\n",
       "window -4980:20 mean y                    0.017887\n",
       "window 2520:7520 low frequency power      0.017758\n",
       "window -7480:-2480 mean y                 0.017362\n",
       "                                            ...   \n",
       "angular path length                       0.004415\n",
       "window -2480:2520 high frequency power    0.004366\n",
       "kurtosis                                  0.004221\n",
       "window -4980:20 mean x                    0.004187\n",
       "window 20:5020 mean x                     0.002748\n",
       "Length: 107, dtype: float64"
      ]
     },
     "execution_count": 71,
     "metadata": {},
     "output_type": "execute_result"
    }
   ],
   "source": [
    "forest_importances"
   ]
  },
  {
   "cell_type": "code",
   "execution_count": null,
   "id": "207eccc0-8b0c-4fbe-b420-1fbe7a7ebe1a",
   "metadata": {},
   "outputs": [],
   "source": []
  },
  {
   "cell_type": "code",
   "execution_count": null,
   "id": "9a135f98-4625-4d67-a662-60d4adf5e9e3",
   "metadata": {},
   "outputs": [],
   "source": []
  },
  {
   "cell_type": "code",
   "execution_count": null,
   "id": "924d9a11-a645-4593-9865-04c40a153e8b",
   "metadata": {},
   "outputs": [],
   "source": []
  },
  {
   "cell_type": "code",
   "execution_count": null,
   "id": "71a5099b-7769-4fcf-88e3-0441cecbddc4",
   "metadata": {},
   "outputs": [],
   "source": []
  }
 ],
 "metadata": {
  "kernelspec": {
   "display_name": "f2021-s2022",
   "language": "python",
   "name": "tdm-brown-scratch-f2021-s2022"
  },
  "language_info": {
   "codemirror_mode": {
    "name": "ipython",
    "version": 3
   },
   "file_extension": ".py",
   "mimetype": "text/x-python",
   "name": "python",
   "nbconvert_exporter": "python",
   "pygments_lexer": "ipython3",
   "version": "3.9.6"
  }
 },
 "nbformat": 4,
 "nbformat_minor": 5
}
