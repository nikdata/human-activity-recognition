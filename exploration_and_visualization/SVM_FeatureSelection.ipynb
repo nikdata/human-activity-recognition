{
 "cells": [
  {
   "cell_type": "code",
   "execution_count": 6,
   "id": "aed79fb4-f667-42b9-ab1d-22ae3efd3bea",
   "metadata": {},
   "outputs": [],
   "source": [
    "import pandas as pd\n",
    "from sklearn import svm # SVM Package\n",
    "import numpy as np\n",
    "import matplotlib.pyplot as plt\n",
    "from sklearn.utils import resample\n",
    "from sklearn.metrics import confusion_matrix"
   ]
  },
  {
   "cell_type": "code",
   "execution_count": 8,
   "id": "1ca6da52-0e79-455f-b183-cf1dec1190eb",
   "metadata": {},
   "outputs": [],
   "source": [
    "## Preparing Dataset!\n",
    "\n",
    "df_main = pd.read_csv(\"features_032422.csv\") # Import features set\n",
    "\n",
    "# Making dictionary between incident id and category\n",
    "df_raw = pd.read_csv('raw-data/har_raw.gz')\n",
    "\n",
    "incident_dict = dict()\n",
    "\n",
    "for i in range(df_raw.shape[0]):\n",
    "    incident_dict[df_raw.iloc[i,1]] = df_raw.iloc[i,2]\n",
    "\n",
    "# Features that are going to be \"ignored\" based on previous findings\n",
    "\n",
    "filter_feat = [\"mean y\",\"window -7480:-2480 mean y\",\"window -4980:20 mean y\",\"window -2480:2520 mean y\",\n",
    "               \"window 20:5020 mean y\",\"window 2520:7520 mean y\",\"peak y\"]\n",
    "\n",
    "df_main.drop(filter_feat, axis=1, inplace=True)\n",
    "    \n",
    "# z-score normalizes each feature to make sure the scales are the same (assume normal distribution)\n",
    "for feature in df_main.columns:\n",
    "    # Please do not normalize the incident_id values!\n",
    "    if feature == \"incident_id\":\n",
    "        continue\n",
    "    df_main[feature] = (df_main[feature] - df_main[feature].mean())/df_main[feature].std()\n",
    "\n",
    "# Separated dataframes for STF and Others\n",
    "others = [ID for ID, motion in incident_dict.items() if motion == \"other\"]\n",
    "stf = list(set(df_main[\"incident_id\"])-set(others)) # Slip, trip, or fall IDs\n",
    "\n",
    "df_stf = df_main[df_main[\"incident_id\"].isin(stf)].reset_index().drop(labels=[\"index\",\"incident_id\"],axis=1)\n",
    "df_other =df_main[df_main[\"incident_id\"].isin(others)].reset_index().drop(labels=[\"index\",\"incident_id\"],axis=1)\n",
    "\n",
    "# Remove the dataframes that will not be used (for RAM purposes)\n",
    "del others; del stf; del df_main; del df_raw;"
   ]
  },
  {
   "cell_type": "code",
   "execution_count": 9,
   "id": "aed98401-5957-4bca-a0fc-53f24b60c40d",
   "metadata": {},
   "outputs": [],
   "source": [
    "def iter_SVM(df_other, df_stf, best_feat, iteration, n_other=df_stf.shape[0], n_stf=df_stf.shape[0]):\n",
    "    '''\n",
    "    # This function is meant to iterate through the feature list and apply forward feature selection to build\n",
    "    # the best model that maximizes the model evaluation metric\n",
    "    \n",
    "    df_other (pd.DataFrame): dataframe containing all other-classified events\n",
    "    df_stf (pd.DataFrame): dataframe containing all slip/trip/fall-classified events\n",
    "    iteration (int): number of sampling iterations to find the best combination of features\n",
    "    n_other (int): number of \"other\" data points to use to train model\n",
    "    n_stf (int): number of \"slip/trip/fall\" data points to use to train model\n",
    "    best_feat (list): labels of previous features that maximized the given training metric\n",
    "    '''\n",
    "\n",
    "    def _metric(df_stf,X_valid):\n",
    "        '''\n",
    "        # This is function is meant to generate whatever model selection metric that we want to base feature selection\n",
    "        # off. Right now, it is implementing Positive Predictive Values (PPV; 02 24 2022)\n",
    "\n",
    "        X_valid (multi-dimension array): contains data from the validation set\n",
    "        '''\n",
    "        return(df_stf.shape[0]/np.sum(lin_clf.predict(X_valid)))\n",
    "\n",
    "    test_feat = list(set(df_stf.columns)-set(best_feat)) # list of features that we are testing\n",
    "    \n",
    "    # Dataframe that holds the feature evaluation metric for each iteration\n",
    "    metric = pd.DataFrame(zip(test_feat,np.zeros(len(test_feat))),\n",
    "                          columns=[\"feature\",\"score1\"]).set_index(\"feature\")\n",
    "        \n",
    "    for reps in range(iteration):\n",
    "        ### Want to use the same testing and validation set between evaluating features\n",
    "       \n",
    "        # Gets the row indices for the training data sets\n",
    "        train_other = resample([i for i in range(df_other.shape[0])],n_samples=n_others) \n",
    "        train_stf = resample([i for i in range(df_stf.shape[0])],n_samples=n_stf)\n",
    "\n",
    "        # Gets the row indices for the validation training set\n",
    "        valid_other = [i for i in range(df_other.shape[0]) if i not in train_other]\n",
    "        valid_stf = [i for i in range(df_stf.shape[0]) if i not in train_stf]\n",
    "        \n",
    "        _rep = \"score\" + str(reps+1)\n",
    "        metric = pd.concat([metric,pd.DataFrame(np.zeros(metric.shape[0]),columns=[_rep])],axis=1)\n",
    "        \n",
    "        for trial in test_feat:\n",
    "            feature = best_feat + [trial] # feature list to train SVM with\n",
    "            \n",
    "            # Builds an feature list (X) and a list with their respective labels (Y).\n",
    "            # For Y \"values, 0 = others and 1 = Slip/Trip/Fall\n",
    "            train_X = np.append(df_other.iloc[train_other,:][feature].to_numpy(), df_stf.iloc[train_stf,:][feature].to_numpy())\n",
    "            train_Y = np.append(np.zeros(n_other),np.full((1,n_stf),1))\n",
    "            valid_X = np.append(df_other.iloc[valid_other,:][feature].to_numpy(), df_stf.iloc[valid_stf,:][feature].to_numpy())\n",
    "            \n",
    "            train_X = train_X.reshape(-1,len(feature))\n",
    "            valid_X = valid_X.reshape(-1,len(feature))\n",
    "            \n",
    "            # Training the Linear SVM\n",
    "            lin_clf = svm.LinearSVC(dual=False,C=1,max_iter=10**5)\n",
    "            lin_clf.fit(train_X,train_Y)\n",
    "            \n",
    "            # Adds performance metrix to the DataFrame\n",
    "            metric.loc[trial,_rep] = _metric(df_stf,valid_X)\n",
    "    \n",
    "    avg_metric = metric.mean(axis=1) # averages metrics for the same feature\n",
    "    maxed_feat = avg_metric.idxmax() # finds the best feature with the greatest averaged metric\n",
    "    \n",
    "    return (maxed_feat,metric)\n",
    "\n",
    "def confusion_matrix():\n",
    "    '''\n",
    "    Creates a confusion matrix from the true_y and predicted_y values. Still working on it...\n",
    "    '''\n",
    "    return"
   ]
  },
  {
   "cell_type": "markdown",
   "id": "9ccfa0e3-a992-402a-a01e-8587c1ec6409",
   "metadata": {},
   "source": [
    "The block of code below just finds the first \"couple\" top features that would be selected sequentially based on what maximized the performance metric PPV."
   ]
  },
  {
   "cell_type": "code",
   "execution_count": 5,
   "id": "86833209-710b-4524-80ce-cb2a375785fe",
   "metadata": {},
   "outputs": [
    {
     "name": "stdout",
     "output_type": "stream",
     "text": [
      "Best Feature: window -2480:2520 low frequency power, PPV: 0.4283\n",
      "Best Feature: window 2520:7520 low frequency power, PPV: 0.3770\n",
      "Best Feature: window 20:5020 low frequency power, PPV: 0.3564\n",
      "Best Feature: window -2480:2520 medium frequency power, PPV: 0.3209\n",
      "Best Feature: medium frequency power, PPV: 0.3066\n",
      "Best Feature: window -4980:20 medium frequency power, PPV: 0.3055\n",
      "Best Feature: window 20:5020 kurtosis, PPV: 0.2833\n",
      "Best Feature: window -2480:2520 high frequency power, PPV: 0.2824\n",
      "Best Feature: mean x, PPV: 0.2731\n",
      "Best Feature: window -4980:20 kurtosis, PPV: 0.2786\n",
      "Best Feature: window 20:5020 minimum, PPV: 0.2781\n",
      "Best Feature: window 20:5020 range, PPV: 0.2792\n",
      "Best Feature: window -4980:20 mean z, PPV: 0.2756\n",
      "Best Feature: window 20:5020 mean x, PPV: 0.2761\n",
      "Best Feature: kurtosis, PPV: 0.2793\n",
      "Best Feature: peak x, PPV: 0.2822\n",
      "Best Feature: peak z, PPV: 0.2753\n",
      "Best Feature: window 20:5020 maximum, PPV: 0.2789\n",
      "Best Feature: window -7480:-2480 medium frequency power, PPV: 0.2787\n",
      "Best Feature: window 2520:7520 standard deviation, PPV: 0.2796\n",
      "Best Feature: window -2480:2520 kurtosis, PPV: 0.2765\n",
      "Best Feature: window 20:5020 skew, PPV: 0.2764\n",
      "Best Feature: window -7480:-2480 mean x, PPV: 0.2788\n",
      "Best Feature: window 2520:7520 total variation, PPV: 0.2800\n",
      "Best Feature: window 20:5020 total variation, PPV: 0.2782\n"
     ]
    }
   ],
   "source": [
    "# Tunable Parameters\n",
    "iterations = 100\n",
    "n_others = 200 # number of other data points to train model with (default: df_stf.shape[0], matches maximum positive cases)\n",
    "n_stf = 200 # number of slip, trip, fall data points to train model with (default: df_stf.shape[0], matches maximum positive cases)\n",
    "\n",
    "PPV = [0] # Holds the PPV values as we successively add features using forward feature selection; needs to initialize with 0 to begin comparisons\n",
    "best_feat = [] # Hold the features we add in chronological order\n",
    "\n",
    "count = 0\n",
    "\n",
    "# Loop iterates through all the features, and breaks when the PPV no longer increases (onset of overfitting)\n",
    "for i in range(df_stf.shape[1]):\n",
    "    top_feat, df_PPV = iter_SVM(df_other,df_stf,best_feat,iterations,n_others, n_stf)\n",
    "    \n",
    "    best_feat.append(top_feat)\n",
    "    PPV.append(df_PPV.loc[top_feat].mean(axis=0))\n",
    "    \n",
    "    print(\"Best Feature: %s, PPV: %.4f\" %(top_feat,PPV[i+1]))\n",
    "    \n",
    "    count += 1\n",
    "    if count == 25:\n",
    "        break"
   ]
  },
  {
   "cell_type": "code",
   "execution_count": 32,
   "id": "09b8eb61-4f02-452d-a3ab-69682d1e24ab",
   "metadata": {},
   "outputs": [
    {
     "ename": "AttributeError",
     "evalue": "'list' object has no attribute 'figsize'",
     "output_type": "error",
     "traceback": [
      "\u001b[0;31m---------------------------------------------------------------------------\u001b[0m",
      "\u001b[0;31mAttributeError\u001b[0m                            Traceback (most recent call last)",
      "\u001b[0;32m<ipython-input-32-83ee8563d70d>\u001b[0m in \u001b[0;36m<module>\u001b[0;34m\u001b[0m\n\u001b[1;32m      5\u001b[0m \u001b[0mplt\u001b[0m\u001b[0;34m.\u001b[0m\u001b[0mylabel\u001b[0m\u001b[0;34m(\u001b[0m\u001b[0;34m\"Positive Predictive Value\"\u001b[0m\u001b[0;34m)\u001b[0m\u001b[0;34m\u001b[0m\u001b[0;34m\u001b[0m\u001b[0m\n\u001b[1;32m      6\u001b[0m \u001b[0mplt\u001b[0m\u001b[0;34m.\u001b[0m\u001b[0mtitle\u001b[0m\u001b[0;34m(\u001b[0m\u001b[0;34m\"Forward Feature Selection using a Linear Kernel SVM\"\u001b[0m\u001b[0;34m)\u001b[0m\u001b[0;34m\u001b[0m\u001b[0;34m\u001b[0m\u001b[0m\n\u001b[0;32m----> 7\u001b[0;31m \u001b[0mfig\u001b[0m\u001b[0;34m.\u001b[0m\u001b[0mfigsize\u001b[0m\u001b[0;34m(\u001b[0m\u001b[0;34m[\u001b[0m\u001b[0;36m9\u001b[0m\u001b[0;34m,\u001b[0m\u001b[0;36m6\u001b[0m\u001b[0;34m]\u001b[0m\u001b[0;34m)\u001b[0m\u001b[0;34m\u001b[0m\u001b[0;34m\u001b[0m\u001b[0m\n\u001b[0m\u001b[1;32m      8\u001b[0m \u001b[0;34m\u001b[0m\u001b[0m\n\u001b[1;32m      9\u001b[0m \u001b[0mplt\u001b[0m\u001b[0;34m.\u001b[0m\u001b[0msavefig\u001b[0m\u001b[0;34m(\u001b[0m\u001b[0;34m\"Sample_Plot.png\"\u001b[0m\u001b[0;34m,\u001b[0m\u001b[0mdpi\u001b[0m\u001b[0;34m=\u001b[0m\u001b[0;36m600\u001b[0m\u001b[0;34m)\u001b[0m\u001b[0;34m\u001b[0m\u001b[0;34m\u001b[0m\u001b[0m\n",
      "\u001b[0;31mAttributeError\u001b[0m: 'list' object has no attribute 'figsize'"
     ]
    },
    {
     "data": {
      "image/png": "[encoded data removed]",
      "text/plain": [
       "<Figure size 648x432 with 1 Axes>"
      ]
     },
     "metadata": {
      "needs_background": "light"
     },
     "output_type": "display_data"
    }
   ],
   "source": [
    "#PPV.pop(0) # Uncomment this if you are running it for the first time\n",
    "plt.rcParams.update({'font.size': 15})\n",
    "plt.plot([i+1 for i in range(25)],PPV)\n",
    "plt.xlabel(\"Number of Features used in the Model\")\n",
    "plt.ylabel(\"Positive Predictive Value\")\n",
    "plt.title(\"Forward Feature Selection using a Linear Kernel SVM\")\n",
    "fig.figsize([9,6])\n",
    "\n",
    "plt.savefig(\"Sample_Plot.png\",dpi=600)"
   ]
  },
  {
   "cell_type": "markdown",
   "id": "5eb355fd-78ba-44cf-927e-cbac8bed2e67",
   "metadata": {},
   "source": [
    "This block of code below just does pure forward feature selection and stops when the performance metric (PPV) does not increase."
   ]
  },
  {
   "cell_type": "code",
   "execution_count": 20,
   "id": "81342d7e-1faa-40ec-9cec-3a315191aaf1",
   "metadata": {},
   "outputs": [
    {
     "name": "stdout",
     "output_type": "stream",
     "text": [
      "Best Feature: window 2520:7520 low frequency power, PPV: 0.4339\n",
      "Best Feature: window -2480:2520 low frequency power, PPV: 0.3844\n",
      "\n",
      "Done!\n"
     ]
    }
   ],
   "source": [
    "# Tunable Parameters\n",
    "iterations = 300\n",
    "n_others = 200 # number of other data points to train model with (default: df_stf.shape[0], matches maximum positive cases)\n",
    "n_stf = 200 # number of slip, trip, fall data points to train model with (default: df_stf.shape[0], matches maximum positive cases)\n",
    "\n",
    "PPV = [0] # Holds the PPV values as we successively add features using forward feature selection; needs to initialize with 0 to begin comparisons\n",
    "best_feat = [] # Hold the features we add in chronological order\n",
    "\n",
    "# Loop iterates through all the features, and breaks when the PPV no longer increases (onset of overfitting)\n",
    "for i in range(df_stf.shape[1]):\n",
    "    top_feat, df_PPV = iter_SVM(df_other,df_stf,best_feat,iterations,n_others, n_stf)\n",
    "    \n",
    "    best_feat.append(top_feat)\n",
    "    PPV.append(df_PPV.loc[top_feat].mean(axis=0))\n",
    "    \n",
    "    print(\"Best Feature: %s, PPV: %.4f\" %(top_feat,PPV[i+1]))\n",
    "\n",
    "    # Checks if the new added feature increases PPV; else, break from loop\n",
    "    if PPV[i+1] < PPV[i]:\n",
    "        print(\"\\nDone!\")\n",
    "        break"
   ]
  }
 ],
 "metadata": {
  "kernelspec": {
   "display_name": "f2021-s2022",
   "language": "python",
   "name": "tdm-brown-scratch-f2021-s2022"
  },
  "language_info": {
   "codemirror_mode": {
    "name": "ipython",
    "version": 3
   },
   "file_extension": ".py",
   "mimetype": "text/x-python",
   "name": "python",
   "nbconvert_exporter": "python",
   "pygments_lexer": "ipython3",
   "version": "3.9.6"
  }
 },
 "nbformat": 4,
 "nbformat_minor": 5
}
