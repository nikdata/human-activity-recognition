{
 "cells": [
  {
   "cell_type": "markdown",
   "id": "cb28f73b-576b-4ae8-9f4f-c213efb9afb9",
   "metadata": {},
   "source": [
    "Does a linear discriminant analysis uncover anything? Not very likely given how simple such a model necessarily is, but we haven't tried it yet. May as well."
   ]
  },
  {
   "cell_type": "code",
   "execution_count": 8,
   "id": "2e5447bd-d7df-4c2b-a48a-bc1d19fccc73",
   "metadata": {},
   "outputs": [],
   "source": [
    "import git\n",
    "import os\n",
    "import sys\n",
    "root = git.Repo(os.getcwd(), search_parent_directories=True).git.rev_parse(\"--show-toplevel\")\n",
    "sys.path.append(os.path.join(root, 'data_processing'))\n",
    "\n",
    "from make_features import load_data, make_undirected\n",
    "import numpy as np\n",
    "import pandas as pd\n",
    "import seaborn as sns\n",
    "sns.set()\n",
    "import matplotlib.pyplot as plt"
   ]
  },
  {
   "cell_type": "code",
   "execution_count": 10,
   "id": "3b108bce-2844-4a62-af50-15ad5bb714a4",
   "metadata": {},
   "outputs": [],
   "source": [
    "incidents, acceleration = load_data()"
   ]
  },
  {
   "cell_type": "code",
   "execution_count": 12,
   "id": "995ed401-2a18-4dc2-b1a3-273d44a37f35",
   "metadata": {},
   "outputs": [],
   "source": [
    "features = make_undirected(acceleration)"
   ]
  },
  {
   "cell_type": "code",
   "execution_count": 14,
   "id": "3c30b9b4-d889-44e8-8938-3082aca6e978",
   "metadata": {},
   "outputs": [],
   "source": [
    "from sklearn.discriminant_analysis import LinearDiscriminantAnalysis as LDA"
   ]
  },
  {
   "cell_type": "code",
   "execution_count": 15,
   "id": "e09366e8-68de-49ba-a768-15d69ad324e4",
   "metadata": {},
   "outputs": [],
   "source": [
    "X = features.to_numpy()\n",
    "y = (incidents['motion'] != 'other').to_numpy()"
   ]
  },
  {
   "cell_type": "code",
   "execution_count": 16,
   "id": "7f2e8751-5257-443d-bf2f-545ffee5dcce",
   "metadata": {},
   "outputs": [
    {
     "data": {
      "text/plain": [
       "0.9165938864628821"
      ]
     },
     "execution_count": 16,
     "metadata": {},
     "output_type": "execute_result"
    }
   ],
   "source": [
    "clf = LDA()\n",
    "clf.fit(X, y)\n",
    "clf.score(X, y)"
   ]
  },
  {
   "cell_type": "code",
   "execution_count": 20,
   "id": "2f7ffada-59f1-4fc1-82fd-a0373109b808",
   "metadata": {},
   "outputs": [
    {
     "data": {
      "text/plain": [
       "array([0.91659389, 0.08340611])"
      ]
     },
     "execution_count": 20,
     "metadata": {},
     "output_type": "execute_result"
    }
   ],
   "source": [
    "clf.priors_"
   ]
  },
  {
   "cell_type": "markdown",
   "id": "244577e9-2459-4b5f-9856-753c1074a997",
   "metadata": {},
   "source": [
    "We can see that the score lines up precisely with the prior for the non-hazard class. This indicates that this classifier may be simply assigning everything to the non-hazard class."
   ]
  },
  {
   "cell_type": "code",
   "execution_count": 22,
   "id": "c9fca9a3-8177-4991-94b8-11b62fb3fd39",
   "metadata": {},
   "outputs": [
    {
     "data": {
      "text/plain": [
       "0"
      ]
     },
     "execution_count": 22,
     "metadata": {},
     "output_type": "execute_result"
    }
   ],
   "source": [
    "clf.predict(X).sum()"
   ]
  },
  {
   "cell_type": "markdown",
   "id": "b0122908-2223-40a1-9840-346131df28cb",
   "metadata": {},
   "source": [
    "Yes, that confirms it. It doesn't assign a single incident to the hazard class."
   ]
  },
  {
   "cell_type": "code",
   "execution_count": null,
   "id": "dd4dfaa7-f8d8-4d0c-9ee8-3bbe0bf6f9c4",
   "metadata": {},
   "outputs": [],
   "source": []
  }
 ],
 "metadata": {
  "kernelspec": {
   "display_name": "f2021-s2022",
   "language": "python",
   "name": "tdm-brown-scratch-f2021-s2022"
  },
  "language_info": {
   "codemirror_mode": {
    "name": "ipython",
    "version": 3
   },
   "file_extension": ".py",
   "mimetype": "text/x-python",
   "name": "python",
   "nbconvert_exporter": "python",
   "pygments_lexer": "ipython3",
   "version": "3.9.6"
  }
 },
 "nbformat": 4,
 "nbformat_minor": 5
}
