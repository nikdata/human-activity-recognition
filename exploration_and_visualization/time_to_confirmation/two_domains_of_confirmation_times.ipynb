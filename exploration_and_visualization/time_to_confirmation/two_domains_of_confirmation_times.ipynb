{
 "cells": [
  {
   "cell_type": "markdown",
   "id": "86672b06-103a-4456-b252-3104c6a96d7f",
   "metadata": {},
   "source": [
    "Alden Bradford, February 2, 2022\n",
    "\n",
    "From a preliminary look at the time-to-confirmation, one pattern immediately jumps out. For seven employers, some of their verifications happen within 30 seconds. These are distributed in a very different way from the other time-to-verification data."
   ]
  },
  {
   "cell_type": "code",
   "execution_count": 1,
   "id": "26ee4cd2-b472-4e04-ae1f-d01d8a34e4ce",
   "metadata": {},
   "outputs": [],
   "source": [
    "import numpy as np\n",
    "import pandas as pd\n",
    "import seaborn as sns\n",
    "import matplotlib.pyplot as plt\n",
    "import sys\n",
    "sys.path.append('/depot/tdm-musafe/apps')\n",
    "from make_features import load_data\n",
    "incidents, acceleration = load_data()"
   ]
  },
  {
   "cell_type": "markdown",
   "id": "f26b9cd9-d8fd-42cf-ba9a-69ad824d2306",
   "metadata": {},
   "source": [
    "Let's first have a look at the data directly."
   ]
  },
  {
   "cell_type": "code",
   "execution_count": 2,
   "id": "2d11aac9-6bfc-434b-8bcc-358cc3591625",
   "metadata": {},
   "outputs": [
    {
     "data": {
      "text/plain": [
       "count    2.770000e+03\n",
       "mean     3.570206e+05\n",
       "std      1.875389e+06\n",
       "min      0.000000e+00\n",
       "25%      5.000000e+00\n",
       "50%      2.314500e+03\n",
       "75%      5.778175e+04\n",
       "max      2.888262e+07\n",
       "Name: Seconds to confirmation, dtype: float64"
      ]
     },
     "execution_count": 2,
     "metadata": {},
     "output_type": "execute_result"
    }
   ],
   "source": [
    "seconds = ((incidents['confirmation_ts'] - incidents['occurrence_ts'])/pd.Timedelta('1s')).astype('int').rename('Seconds to confirmation')\n",
    "seconds.describe()"
   ]
  },
  {
   "cell_type": "markdown",
   "id": "0ad15aff-6708-44dc-a118-31a5b7ee2fff",
   "metadata": {},
   "source": [
    "Since the times span multiple orders of magnitude, a logarithmic scale is necessary. However, many of them are exactly zero. We should exclude those from this plot."
   ]
  },
  {
   "cell_type": "code",
   "execution_count": 3,
   "id": "7e029201-d5df-494d-bce5-a989d36bbda8",
   "metadata": {},
   "outputs": [
    {
     "data": {
      "text/plain": [
       "<AxesSubplot:xlabel='Seconds to confirmation', ylabel='Count'>"
      ]
     },
     "execution_count": 3,
     "metadata": {},
     "output_type": "execute_result"
    },
    {
     "data": {
      "image/png": "[encoded data removed]",
      "text/plain": [
       "<Figure size 432x288 with 1 Axes>"
      ]
     },
     "metadata": {
      "needs_background": "light"
     },
     "output_type": "display_data"
    }
   ],
   "source": [
    "sns.histplot(seconds[seconds != 0], log_scale = True)"
   ]
  },
  {
   "cell_type": "markdown",
   "id": "2a3fa0d6-ab80-454b-b12b-1d7c98699288",
   "metadata": {},
   "source": [
    "We can see a major dip in the distribution around 30 seconds. It becomes more clear what is happening when we segment the data."
   ]
  },
  {
   "cell_type": "code",
   "execution_count": 4,
   "id": "d0d4ddee-9e56-4a0e-81a3-f2bdb66d481e",
   "metadata": {},
   "outputs": [
    {
     "data": {
      "image/png": "[encoded data removed]",
      "text/plain": [
       "<Figure size 432x288 with 1 Axes>"
      ]
     },
     "metadata": {
      "needs_background": "light"
     },
     "output_type": "display_data"
    }
   ],
   "source": [
    "sns.histplot(seconds[seconds < 30], discrete = True)\n",
    "plt.savefig('fast_confirmations.png')"
   ]
  },
  {
   "cell_type": "markdown",
   "id": "1e913f17-04f4-4a07-a120-611eac702db8",
   "metadata": {},
   "source": [
    "We can see that the <30 second samples appear to follow a Poisson distribution, indicating that they may be the result of a random addative process."
   ]
  },
  {
   "cell_type": "code",
   "execution_count": 5,
   "id": "df82521e-082b-4d1b-bd8a-01eeab6c3691",
   "metadata": {},
   "outputs": [
    {
     "data": {
      "image/png": "[encoded data removed]",
      "text/plain": [
       "<Figure size 432x288 with 1 Axes>"
      ]
     },
     "metadata": {
      "needs_background": "light"
     },
     "output_type": "display_data"
    }
   ],
   "source": [
    "sns.histplot(seconds[seconds > 30], log_scale=True)\n",
    "plt.savefig('slow_confirmations.png')"
   ]
  },
  {
   "cell_type": "markdown",
   "id": "6bf6851a-aa7c-4c00-95cc-8416bb84254e",
   "metadata": {},
   "source": [
    "The times longer than 30 seconds appear to follow a log-normal distribution, though there is a heavy tail. There is a notable dip around 8 hours $\\approx$ 30,000 seconds. It seems reasonable to attribute this to incidents which were not verified until the following workday."
   ]
  },
  {
   "cell_type": "markdown",
   "id": "e1b561e2-8553-4ed8-9185-3fbb121094bc",
   "metadata": {},
   "source": [
    "Is there anything which stands out about those incidents which were confrimed very quickly? Let's do a short analysis:"
   ]
  },
  {
   "cell_type": "code",
   "execution_count": 6,
   "id": "79573ac6-d0b8-4942-83f7-b4d066795321",
   "metadata": {},
   "outputs": [
    {
     "data": {
      "text/html": [
       "<div>\n",
       "<style scoped>\n",
       "    .dataframe tbody tr th:only-of-type {\n",
       "        vertical-align: middle;\n",
       "    }\n",
       "\n",
       "    .dataframe tbody tr th {\n",
       "        vertical-align: top;\n",
       "    }\n",
       "\n",
       "    .dataframe thead th {\n",
       "        text-align: right;\n",
       "    }\n",
       "</style>\n",
       "<table border=\"1\" class=\"dataframe\">\n",
       "  <thead>\n",
       "    <tr style=\"text-align: right;\">\n",
       "      <th>motion</th>\n",
       "      <th>fall</th>\n",
       "      <th>other</th>\n",
       "      <th>slip</th>\n",
       "      <th>trip</th>\n",
       "      <th>All</th>\n",
       "    </tr>\n",
       "    <tr>\n",
       "      <th>hash_id</th>\n",
       "      <th></th>\n",
       "      <th></th>\n",
       "      <th></th>\n",
       "      <th></th>\n",
       "      <th></th>\n",
       "    </tr>\n",
       "  </thead>\n",
       "  <tbody>\n",
       "    <tr>\n",
       "      <th>All</th>\n",
       "      <td>2</td>\n",
       "      <td>766</td>\n",
       "      <td>48</td>\n",
       "      <td>13</td>\n",
       "      <td>829</td>\n",
       "    </tr>\n",
       "    <tr>\n",
       "      <th>e81ad8a2e87bd88e4ff71d8da2c7a026</th>\n",
       "      <td>0</td>\n",
       "      <td>285</td>\n",
       "      <td>0</td>\n",
       "      <td>0</td>\n",
       "      <td>285</td>\n",
       "    </tr>\n",
       "    <tr>\n",
       "      <th>0c96025713b01a04beff5193cbf7d76d</th>\n",
       "      <td>1</td>\n",
       "      <td>213</td>\n",
       "      <td>42</td>\n",
       "      <td>11</td>\n",
       "      <td>267</td>\n",
       "    </tr>\n",
       "    <tr>\n",
       "      <th>39bf04098a77bb913f9bc5d641d0f9f9</th>\n",
       "      <td>1</td>\n",
       "      <td>197</td>\n",
       "      <td>3</td>\n",
       "      <td>0</td>\n",
       "      <td>201</td>\n",
       "    </tr>\n",
       "    <tr>\n",
       "      <th>f3af00480024c8e968798ab4524c3eb1</th>\n",
       "      <td>0</td>\n",
       "      <td>37</td>\n",
       "      <td>1</td>\n",
       "      <td>0</td>\n",
       "      <td>38</td>\n",
       "    </tr>\n",
       "    <tr>\n",
       "      <th>1bd47bc54ee0cf5ec88079d6a346d817</th>\n",
       "      <td>0</td>\n",
       "      <td>16</td>\n",
       "      <td>1</td>\n",
       "      <td>0</td>\n",
       "      <td>17</td>\n",
       "    </tr>\n",
       "    <tr>\n",
       "      <th>8ab702b0237a1f68aa821b8d4f8dc2ef</th>\n",
       "      <td>0</td>\n",
       "      <td>9</td>\n",
       "      <td>1</td>\n",
       "      <td>1</td>\n",
       "      <td>11</td>\n",
       "    </tr>\n",
       "    <tr>\n",
       "      <th>515e8ea766512d541bd64f50668952ae</th>\n",
       "      <td>0</td>\n",
       "      <td>9</td>\n",
       "      <td>0</td>\n",
       "      <td>1</td>\n",
       "      <td>10</td>\n",
       "    </tr>\n",
       "  </tbody>\n",
       "</table>\n",
       "</div>"
      ],
      "text/plain": [
       "motion                            fall  other  slip  trip  All\n",
       "hash_id                                                       \n",
       "All                                  2    766    48    13  829\n",
       "e81ad8a2e87bd88e4ff71d8da2c7a026     0    285     0     0  285\n",
       "0c96025713b01a04beff5193cbf7d76d     1    213    42    11  267\n",
       "39bf04098a77bb913f9bc5d641d0f9f9     1    197     3     0  201\n",
       "f3af00480024c8e968798ab4524c3eb1     0     37     1     0   38\n",
       "1bd47bc54ee0cf5ec88079d6a346d817     0     16     1     0   17\n",
       "8ab702b0237a1f68aa821b8d4f8dc2ef     0      9     1     1   11\n",
       "515e8ea766512d541bd64f50668952ae     0      9     0     1   10"
      ]
     },
     "execution_count": 6,
     "metadata": {},
     "output_type": "execute_result"
    }
   ],
   "source": [
    "(incidents[seconds < 30][['motion', 'hash_id']]\n",
    " .pivot_table(index='hash_id', columns='motion', aggfunc=len, fill_value=0, margins=True)\n",
    " .sort_values('All', ascending=False)\n",
    ")"
   ]
  },
  {
   "cell_type": "markdown",
   "id": "fbb3859a-ae62-4be6-9756-d8576edf6332",
   "metadata": {},
   "source": [
    "One of the employers (e81ad8a2e87bd88e4ff71d8da2c7a026) is responsible for a large number of these fast events, but none of them are reported as hazardous. What kind of distribution do their times follow?"
   ]
  },
  {
   "cell_type": "code",
   "execution_count": 7,
   "id": "39e1416e-5325-441b-800d-82703db2ab11",
   "metadata": {},
   "outputs": [
    {
     "data": {
      "text/plain": [
       "count    2.890000e+02\n",
       "mean     2.118761e+04\n",
       "std      2.691959e+05\n",
       "min      0.000000e+00\n",
       "25%      2.000000e+00\n",
       "50%      3.000000e+00\n",
       "75%      4.000000e+00\n",
       "max      4.124738e+06\n",
       "Name: Seconds to confirmation, dtype: float64"
      ]
     },
     "execution_count": 7,
     "metadata": {},
     "output_type": "execute_result"
    }
   ],
   "source": [
    "e8 = seconds[incidents['hash_id'] == 'e81ad8a2e87bd88e4ff71d8da2c7a026']\n",
    "e8.describe()"
   ]
  },
  {
   "cell_type": "code",
   "execution_count": 8,
   "id": "34720ba8-b7f5-4a21-973a-525d01bb73d6",
   "metadata": {},
   "outputs": [
    {
     "data": {
      "text/plain": [
       "<AxesSubplot:xlabel='Seconds to confirmation', ylabel='Count'>"
      ]
     },
     "execution_count": 8,
     "metadata": {},
     "output_type": "execute_result"
    },
    {
     "data": {
      "image/png": "[encoded data removed]",
      "text/plain": [
       "<Figure size 432x288 with 1 Axes>"
      ]
     },
     "metadata": {
      "needs_background": "light"
     },
     "output_type": "display_data"
    }
   ],
   "source": [
    "sns.histplot(e8[e8<30], discrete=True)"
   ]
  },
  {
   "cell_type": "markdown",
   "id": "ae4ef9f0-0b27-46ca-a614-bd5a583c8e5e",
   "metadata": {},
   "source": [
    "They do seem to have four longer events as well as their short ones. What are they?"
   ]
  },
  {
   "cell_type": "code",
   "execution_count": 9,
   "id": "cbaa219f-073a-4ee4-88e2-b36e9606f710",
   "metadata": {},
   "outputs": [
    {
     "data": {
      "text/plain": [
       "incident_id\n",
       "1741406    0 days 00:01:21\n",
       "2576085    0 days 00:15:51\n",
       "3730021   47 days 17:45:38\n",
       "4256071   23 days 02:37:27\n",
       "Name: Seconds to confirmation, dtype: timedelta64[ns]"
      ]
     },
     "execution_count": 9,
     "metadata": {},
     "output_type": "execute_result"
    }
   ],
   "source": [
    "e8[e8>30] * pd.Timedelta('1s')"
   ]
  },
  {
   "cell_type": "markdown",
   "id": "e373260e-1bf8-47b1-986d-5b1548ef6f64",
   "metadata": {},
   "source": [
    "One incident which took a minute and a half, one which took 15 minutes, and two which took around a month. When did these occur?"
   ]
  },
  {
   "cell_type": "code",
   "execution_count": 14,
   "id": "bb0deb09-b72f-4782-b57b-c40d1df7adae",
   "metadata": {},
   "outputs": [
    {
     "data": {
      "text/html": [
       "<div>\n",
       "<style scoped>\n",
       "    .dataframe tbody tr th:only-of-type {\n",
       "        vertical-align: middle;\n",
       "    }\n",
       "\n",
       "    .dataframe tbody tr th {\n",
       "        vertical-align: top;\n",
       "    }\n",
       "\n",
       "    .dataframe thead th {\n",
       "        text-align: right;\n",
       "    }\n",
       "</style>\n",
       "<table border=\"1\" class=\"dataframe\">\n",
       "  <thead>\n",
       "    <tr style=\"text-align: right;\">\n",
       "      <th></th>\n",
       "      <th>hash_id</th>\n",
       "      <th>motion</th>\n",
       "      <th>occurrence_ts</th>\n",
       "      <th>confirmation_ts</th>\n",
       "    </tr>\n",
       "    <tr>\n",
       "      <th>incident_id</th>\n",
       "      <th></th>\n",
       "      <th></th>\n",
       "      <th></th>\n",
       "      <th></th>\n",
       "    </tr>\n",
       "  </thead>\n",
       "  <tbody>\n",
       "    <tr>\n",
       "      <th>1741406</th>\n",
       "      <td>e81ad8a2e87bd88e4ff71d8da2c7a026</td>\n",
       "      <td>other</td>\n",
       "      <td>2020-11-19 12:44:32+00:00</td>\n",
       "      <td>2020-11-19 12:45:53+00:00</td>\n",
       "    </tr>\n",
       "    <tr>\n",
       "      <th>2576085</th>\n",
       "      <td>e81ad8a2e87bd88e4ff71d8da2c7a026</td>\n",
       "      <td>other</td>\n",
       "      <td>2021-01-27 00:18:05+00:00</td>\n",
       "      <td>2021-01-27 00:33:56+00:00</td>\n",
       "    </tr>\n",
       "    <tr>\n",
       "      <th>3730021</th>\n",
       "      <td>e81ad8a2e87bd88e4ff71d8da2c7a026</td>\n",
       "      <td>other</td>\n",
       "      <td>2021-03-25 20:14:45+00:00</td>\n",
       "      <td>2021-05-12 14:00:23+00:00</td>\n",
       "    </tr>\n",
       "    <tr>\n",
       "      <th>4256071</th>\n",
       "      <td>e81ad8a2e87bd88e4ff71d8da2c7a026</td>\n",
       "      <td>other</td>\n",
       "      <td>2021-04-19 16:26:07+00:00</td>\n",
       "      <td>2021-05-12 19:03:34+00:00</td>\n",
       "    </tr>\n",
       "  </tbody>\n",
       "</table>\n",
       "</div>"
      ],
      "text/plain": [
       "                                      hash_id motion  \\\n",
       "incident_id                                            \n",
       "1741406      e81ad8a2e87bd88e4ff71d8da2c7a026  other   \n",
       "2576085      e81ad8a2e87bd88e4ff71d8da2c7a026  other   \n",
       "3730021      e81ad8a2e87bd88e4ff71d8da2c7a026  other   \n",
       "4256071      e81ad8a2e87bd88e4ff71d8da2c7a026  other   \n",
       "\n",
       "                        occurrence_ts           confirmation_ts  \n",
       "incident_id                                                      \n",
       "1741406     2020-11-19 12:44:32+00:00 2020-11-19 12:45:53+00:00  \n",
       "2576085     2021-01-27 00:18:05+00:00 2021-01-27 00:33:56+00:00  \n",
       "3730021     2021-03-25 20:14:45+00:00 2021-05-12 14:00:23+00:00  \n",
       "4256071     2021-04-19 16:26:07+00:00 2021-05-12 19:03:34+00:00  "
      ]
     },
     "execution_count": 14,
     "metadata": {},
     "output_type": "execute_result"
    }
   ],
   "source": [
    "incidents.loc[e8[e8>30].index]"
   ]
  },
  {
   "cell_type": "code",
   "execution_count": 15,
   "id": "048f657a-ae9c-448f-a754-7c6cdd68100d",
   "metadata": {},
   "outputs": [
    {
     "data": {
      "text/plain": [
       "Timestamp('2020-10-31 01:54:10+0000', tz='UTC')"
      ]
     },
     "execution_count": 15,
     "metadata": {},
     "output_type": "execute_result"
    }
   ],
   "source": [
    "incidents.loc[e8[e8<30].index].occurrence_ts.max()"
   ]
  },
  {
   "cell_type": "markdown",
   "id": "bc16a008-4328-49d2-a408-c8acc34cfa15",
   "metadata": {},
   "source": [
    "It looks like after November o"
   ]
  }
 ],
 "metadata": {
  "kernelspec": {
   "display_name": "f2021-s2022",
   "language": "python",
   "name": "tdm-brown-scratch-f2021-s2022"
  },
  "language_info": {
   "codemirror_mode": {
    "name": "ipython",
    "version": 3
   },
   "file_extension": ".py",
   "mimetype": "text/x-python",
   "name": "python",
   "nbconvert_exporter": "python",
   "pygments_lexer": "ipython3",
   "version": "3.9.6"
  }
 },
 "nbformat": 4,
 "nbformat_minor": 5
}
